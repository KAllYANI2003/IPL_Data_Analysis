{
  "nbformat": 4,
  "nbformat_minor": 0,
  "metadata": {
    "colab": {
      "provenance": [],
      "mount_file_id": "1YfrBhDz77qhup6h4mteI6hsLSXwxtibx",
      "authorship_tag": "ABX9TyOSvVfMxDTzIXGXO3z6kpCJ",
      "include_colab_link": true
    },
    "kernelspec": {
      "name": "python3",
      "display_name": "Python 3"
    },
    "language_info": {
      "name": "python"
    }
  },
  "cells": [
    {
      "cell_type": "markdown",
      "metadata": {
        "id": "view-in-github",
        "colab_type": "text"
      },
      "source": [
        "<a href=\"https://colab.research.google.com/github/KAllYANI2003/IPL_Data_Analysis/blob/main/kallyani02.ipynb\" target=\"_parent\"><img src=\"https://colab.research.google.com/assets/colab-badge.svg\" alt=\"Open In Colab\"/></a>"
      ]
    },
    {
      "cell_type": "code",
      "source": [
        "import pandas as pd\n",
        "import matplotlib.pyplot as plt\n",
        "import seaborn as sns\n",
        "from sklearn.cluster import KMeans\n",
        "from sklearn.preprocessing import StandardScaler"
      ],
      "metadata": {
        "id": "s93O0p08uxMl"
      },
      "execution_count": null,
      "outputs": []
    },
    {
      "cell_type": "code",
      "source": [
        "df = pd.read_csv('/content/drive/MyDrive/IPL_data.csv')\n",
        "df.head()"
      ],
      "metadata": {
        "colab": {
          "base_uri": "https://localhost:8080/",
          "height": 207
        },
        "id": "V5-6C22Cu3cB",
        "outputId": "5bdf7bc4-32b7-4f1a-81e2-1a8439f574d4"
      },
      "execution_count": null,
      "outputs": [
        {
          "output_type": "execute_result",
          "data": {
            "text/plain": [
              "       Player_Name Team Country   Age           Role  Matches_Played  \\\n",
              "0      Virat Kohli  RCB   India  34.0        Batsman           237.0   \n",
              "1     Rohit Sharma   MI   India  36.0        Batsman           227.0   \n",
              "2         MS Dhoni  CSK   India  42.0  Wicket-keeper           250.0   \n",
              "3   Jasprit Bumrah   MI   India  29.0         Bowler           120.0   \n",
              "4  Ravindra Jadeja  CSK   India  34.0    All-rounder           226.0   \n",
              "\n",
              "   Runs_Scored  Batting_Average  Wickets_Taken  Economy_Rate  Price_Crores  \n",
              "0       7263.0             37.2            4.0           8.8         17.50  \n",
              "1       6211.0             30.3           15.0           7.9         16.25  \n",
              "2       5082.0             39.1            0.0           0.0         15.00  \n",
              "3         56.0              4.7          145.0           7.4         14.00  \n",
              "4       2692.0             26.8          152.0           7.6         13.50  "
            ],
            "text/html": [
              "\n",
              "  <div id=\"df-985e5d04-24cc-4f66-b419-147be9b348c2\" class=\"colab-df-container\">\n",
              "    <div>\n",
              "<style scoped>\n",
              "    .dataframe tbody tr th:only-of-type {\n",
              "        vertical-align: middle;\n",
              "    }\n",
              "\n",
              "    .dataframe tbody tr th {\n",
              "        vertical-align: top;\n",
              "    }\n",
              "\n",
              "    .dataframe thead th {\n",
              "        text-align: right;\n",
              "    }\n",
              "</style>\n",
              "<table border=\"1\" class=\"dataframe\">\n",
              "  <thead>\n",
              "    <tr style=\"text-align: right;\">\n",
              "      <th></th>\n",
              "      <th>Player_Name</th>\n",
              "      <th>Team</th>\n",
              "      <th>Country</th>\n",
              "      <th>Age</th>\n",
              "      <th>Role</th>\n",
              "      <th>Matches_Played</th>\n",
              "      <th>Runs_Scored</th>\n",
              "      <th>Batting_Average</th>\n",
              "      <th>Wickets_Taken</th>\n",
              "      <th>Economy_Rate</th>\n",
              "      <th>Price_Crores</th>\n",
              "    </tr>\n",
              "  </thead>\n",
              "  <tbody>\n",
              "    <tr>\n",
              "      <th>0</th>\n",
              "      <td>Virat Kohli</td>\n",
              "      <td>RCB</td>\n",
              "      <td>India</td>\n",
              "      <td>34.0</td>\n",
              "      <td>Batsman</td>\n",
              "      <td>237.0</td>\n",
              "      <td>7263.0</td>\n",
              "      <td>37.2</td>\n",
              "      <td>4.0</td>\n",
              "      <td>8.8</td>\n",
              "      <td>17.50</td>\n",
              "    </tr>\n",
              "    <tr>\n",
              "      <th>1</th>\n",
              "      <td>Rohit Sharma</td>\n",
              "      <td>MI</td>\n",
              "      <td>India</td>\n",
              "      <td>36.0</td>\n",
              "      <td>Batsman</td>\n",
              "      <td>227.0</td>\n",
              "      <td>6211.0</td>\n",
              "      <td>30.3</td>\n",
              "      <td>15.0</td>\n",
              "      <td>7.9</td>\n",
              "      <td>16.25</td>\n",
              "    </tr>\n",
              "    <tr>\n",
              "      <th>2</th>\n",
              "      <td>MS Dhoni</td>\n",
              "      <td>CSK</td>\n",
              "      <td>India</td>\n",
              "      <td>42.0</td>\n",
              "      <td>Wicket-keeper</td>\n",
              "      <td>250.0</td>\n",
              "      <td>5082.0</td>\n",
              "      <td>39.1</td>\n",
              "      <td>0.0</td>\n",
              "      <td>0.0</td>\n",
              "      <td>15.00</td>\n",
              "    </tr>\n",
              "    <tr>\n",
              "      <th>3</th>\n",
              "      <td>Jasprit Bumrah</td>\n",
              "      <td>MI</td>\n",
              "      <td>India</td>\n",
              "      <td>29.0</td>\n",
              "      <td>Bowler</td>\n",
              "      <td>120.0</td>\n",
              "      <td>56.0</td>\n",
              "      <td>4.7</td>\n",
              "      <td>145.0</td>\n",
              "      <td>7.4</td>\n",
              "      <td>14.00</td>\n",
              "    </tr>\n",
              "    <tr>\n",
              "      <th>4</th>\n",
              "      <td>Ravindra Jadeja</td>\n",
              "      <td>CSK</td>\n",
              "      <td>India</td>\n",
              "      <td>34.0</td>\n",
              "      <td>All-rounder</td>\n",
              "      <td>226.0</td>\n",
              "      <td>2692.0</td>\n",
              "      <td>26.8</td>\n",
              "      <td>152.0</td>\n",
              "      <td>7.6</td>\n",
              "      <td>13.50</td>\n",
              "    </tr>\n",
              "  </tbody>\n",
              "</table>\n",
              "</div>\n",
              "    <div class=\"colab-df-buttons\">\n",
              "\n",
              "  <div class=\"colab-df-container\">\n",
              "    <button class=\"colab-df-convert\" onclick=\"convertToInteractive('df-985e5d04-24cc-4f66-b419-147be9b348c2')\"\n",
              "            title=\"Convert this dataframe to an interactive table.\"\n",
              "            style=\"display:none;\">\n",
              "\n",
              "  <svg xmlns=\"http://www.w3.org/2000/svg\" height=\"24px\" viewBox=\"0 -960 960 960\">\n",
              "    <path d=\"M120-120v-720h720v720H120Zm60-500h600v-160H180v160Zm220 220h160v-160H400v160Zm0 220h160v-160H400v160ZM180-400h160v-160H180v160Zm440 0h160v-160H620v160ZM180-180h160v-160H180v160Zm440 0h160v-160H620v160Z\"/>\n",
              "  </svg>\n",
              "    </button>\n",
              "\n",
              "  <style>\n",
              "    .colab-df-container {\n",
              "      display:flex;\n",
              "      gap: 12px;\n",
              "    }\n",
              "\n",
              "    .colab-df-convert {\n",
              "      background-color: #E8F0FE;\n",
              "      border: none;\n",
              "      border-radius: 50%;\n",
              "      cursor: pointer;\n",
              "      display: none;\n",
              "      fill: #1967D2;\n",
              "      height: 32px;\n",
              "      padding: 0 0 0 0;\n",
              "      width: 32px;\n",
              "    }\n",
              "\n",
              "    .colab-df-convert:hover {\n",
              "      background-color: #E2EBFA;\n",
              "      box-shadow: 0px 1px 2px rgba(60, 64, 67, 0.3), 0px 1px 3px 1px rgba(60, 64, 67, 0.15);\n",
              "      fill: #174EA6;\n",
              "    }\n",
              "\n",
              "    .colab-df-buttons div {\n",
              "      margin-bottom: 4px;\n",
              "    }\n",
              "\n",
              "    [theme=dark] .colab-df-convert {\n",
              "      background-color: #3B4455;\n",
              "      fill: #D2E3FC;\n",
              "    }\n",
              "\n",
              "    [theme=dark] .colab-df-convert:hover {\n",
              "      background-color: #434B5C;\n",
              "      box-shadow: 0px 1px 3px 1px rgba(0, 0, 0, 0.15);\n",
              "      filter: drop-shadow(0px 1px 2px rgba(0, 0, 0, 0.3));\n",
              "      fill: #FFFFFF;\n",
              "    }\n",
              "  </style>\n",
              "\n",
              "    <script>\n",
              "      const buttonEl =\n",
              "        document.querySelector('#df-985e5d04-24cc-4f66-b419-147be9b348c2 button.colab-df-convert');\n",
              "      buttonEl.style.display =\n",
              "        google.colab.kernel.accessAllowed ? 'block' : 'none';\n",
              "\n",
              "      async function convertToInteractive(key) {\n",
              "        const element = document.querySelector('#df-985e5d04-24cc-4f66-b419-147be9b348c2');\n",
              "        const dataTable =\n",
              "          await google.colab.kernel.invokeFunction('convertToInteractive',\n",
              "                                                    [key], {});\n",
              "        if (!dataTable) return;\n",
              "\n",
              "        const docLinkHtml = 'Like what you see? Visit the ' +\n",
              "          '<a target=\"_blank\" href=https://colab.research.google.com/notebooks/data_table.ipynb>data table notebook</a>'\n",
              "          + ' to learn more about interactive tables.';\n",
              "        element.innerHTML = '';\n",
              "        dataTable['output_type'] = 'display_data';\n",
              "        await google.colab.output.renderOutput(dataTable, element);\n",
              "        const docLink = document.createElement('div');\n",
              "        docLink.innerHTML = docLinkHtml;\n",
              "        element.appendChild(docLink);\n",
              "      }\n",
              "    </script>\n",
              "  </div>\n",
              "\n",
              "\n",
              "    <div id=\"df-9dd853bb-b1ad-4787-be7d-85904089e5b8\">\n",
              "      <button class=\"colab-df-quickchart\" onclick=\"quickchart('df-9dd853bb-b1ad-4787-be7d-85904089e5b8')\"\n",
              "                title=\"Suggest charts\"\n",
              "                style=\"display:none;\">\n",
              "\n",
              "<svg xmlns=\"http://www.w3.org/2000/svg\" height=\"24px\"viewBox=\"0 0 24 24\"\n",
              "     width=\"24px\">\n",
              "    <g>\n",
              "        <path d=\"M19 3H5c-1.1 0-2 .9-2 2v14c0 1.1.9 2 2 2h14c1.1 0 2-.9 2-2V5c0-1.1-.9-2-2-2zM9 17H7v-7h2v7zm4 0h-2V7h2v10zm4 0h-2v-4h2v4z\"/>\n",
              "    </g>\n",
              "</svg>\n",
              "      </button>\n",
              "\n",
              "<style>\n",
              "  .colab-df-quickchart {\n",
              "      --bg-color: #E8F0FE;\n",
              "      --fill-color: #1967D2;\n",
              "      --hover-bg-color: #E2EBFA;\n",
              "      --hover-fill-color: #174EA6;\n",
              "      --disabled-fill-color: #AAA;\n",
              "      --disabled-bg-color: #DDD;\n",
              "  }\n",
              "\n",
              "  [theme=dark] .colab-df-quickchart {\n",
              "      --bg-color: #3B4455;\n",
              "      --fill-color: #D2E3FC;\n",
              "      --hover-bg-color: #434B5C;\n",
              "      --hover-fill-color: #FFFFFF;\n",
              "      --disabled-bg-color: #3B4455;\n",
              "      --disabled-fill-color: #666;\n",
              "  }\n",
              "\n",
              "  .colab-df-quickchart {\n",
              "    background-color: var(--bg-color);\n",
              "    border: none;\n",
              "    border-radius: 50%;\n",
              "    cursor: pointer;\n",
              "    display: none;\n",
              "    fill: var(--fill-color);\n",
              "    height: 32px;\n",
              "    padding: 0;\n",
              "    width: 32px;\n",
              "  }\n",
              "\n",
              "  .colab-df-quickchart:hover {\n",
              "    background-color: var(--hover-bg-color);\n",
              "    box-shadow: 0 1px 2px rgba(60, 64, 67, 0.3), 0 1px 3px 1px rgba(60, 64, 67, 0.15);\n",
              "    fill: var(--button-hover-fill-color);\n",
              "  }\n",
              "\n",
              "  .colab-df-quickchart-complete:disabled,\n",
              "  .colab-df-quickchart-complete:disabled:hover {\n",
              "    background-color: var(--disabled-bg-color);\n",
              "    fill: var(--disabled-fill-color);\n",
              "    box-shadow: none;\n",
              "  }\n",
              "\n",
              "  .colab-df-spinner {\n",
              "    border: 2px solid var(--fill-color);\n",
              "    border-color: transparent;\n",
              "    border-bottom-color: var(--fill-color);\n",
              "    animation:\n",
              "      spin 1s steps(1) infinite;\n",
              "  }\n",
              "\n",
              "  @keyframes spin {\n",
              "    0% {\n",
              "      border-color: transparent;\n",
              "      border-bottom-color: var(--fill-color);\n",
              "      border-left-color: var(--fill-color);\n",
              "    }\n",
              "    20% {\n",
              "      border-color: transparent;\n",
              "      border-left-color: var(--fill-color);\n",
              "      border-top-color: var(--fill-color);\n",
              "    }\n",
              "    30% {\n",
              "      border-color: transparent;\n",
              "      border-left-color: var(--fill-color);\n",
              "      border-top-color: var(--fill-color);\n",
              "      border-right-color: var(--fill-color);\n",
              "    }\n",
              "    40% {\n",
              "      border-color: transparent;\n",
              "      border-right-color: var(--fill-color);\n",
              "      border-top-color: var(--fill-color);\n",
              "    }\n",
              "    60% {\n",
              "      border-color: transparent;\n",
              "      border-right-color: var(--fill-color);\n",
              "    }\n",
              "    80% {\n",
              "      border-color: transparent;\n",
              "      border-right-color: var(--fill-color);\n",
              "      border-bottom-color: var(--fill-color);\n",
              "    }\n",
              "    90% {\n",
              "      border-color: transparent;\n",
              "      border-bottom-color: var(--fill-color);\n",
              "    }\n",
              "  }\n",
              "</style>\n",
              "\n",
              "      <script>\n",
              "        async function quickchart(key) {\n",
              "          const quickchartButtonEl =\n",
              "            document.querySelector('#' + key + ' button');\n",
              "          quickchartButtonEl.disabled = true;  // To prevent multiple clicks.\n",
              "          quickchartButtonEl.classList.add('colab-df-spinner');\n",
              "          try {\n",
              "            const charts = await google.colab.kernel.invokeFunction(\n",
              "                'suggestCharts', [key], {});\n",
              "          } catch (error) {\n",
              "            console.error('Error during call to suggestCharts:', error);\n",
              "          }\n",
              "          quickchartButtonEl.classList.remove('colab-df-spinner');\n",
              "          quickchartButtonEl.classList.add('colab-df-quickchart-complete');\n",
              "        }\n",
              "        (() => {\n",
              "          let quickchartButtonEl =\n",
              "            document.querySelector('#df-9dd853bb-b1ad-4787-be7d-85904089e5b8 button');\n",
              "          quickchartButtonEl.style.display =\n",
              "            google.colab.kernel.accessAllowed ? 'block' : 'none';\n",
              "        })();\n",
              "      </script>\n",
              "    </div>\n",
              "\n",
              "    </div>\n",
              "  </div>\n"
            ],
            "application/vnd.google.colaboratory.intrinsic+json": {
              "type": "dataframe",
              "variable_name": "df",
              "summary": "{\n  \"name\": \"df\",\n  \"rows\": 50,\n  \"fields\": [\n    {\n      \"column\": \"Player_Name\",\n      \"properties\": {\n        \"dtype\": \"string\",\n        \"num_unique_values\": 49,\n        \"samples\": [\n          \"Rishabh Pant\",\n          \"Nitish Rana\",\n          \"Ravichandran Ashwin\"\n        ],\n        \"semantic_type\": \"\",\n        \"description\": \"\"\n      }\n    },\n    {\n      \"column\": \"Team\",\n      \"properties\": {\n        \"dtype\": \"category\",\n        \"num_unique_values\": 10,\n        \"samples\": [\n          \"LSG\",\n          \"MI\",\n          \"PBKS\"\n        ],\n        \"semantic_type\": \"\",\n        \"description\": \"\"\n      }\n    },\n    {\n      \"column\": \"Country\",\n      \"properties\": {\n        \"dtype\": \"category\",\n        \"num_unique_values\": 8,\n        \"samples\": [\n          \"Australia\",\n          \"New Zealand\",\n          \"India\"\n        ],\n        \"semantic_type\": \"\",\n        \"description\": \"\"\n      }\n    },\n    {\n      \"column\": \"Age\",\n      \"properties\": {\n        \"dtype\": \"number\",\n        \"std\": 4.452603763205171,\n        \"min\": 23.0,\n        \"max\": 42.0,\n        \"num_unique_values\": 17,\n        \"samples\": [\n          34.0,\n          36.0,\n          28.0\n        ],\n        \"semantic_type\": \"\",\n        \"description\": \"\"\n      }\n    },\n    {\n      \"column\": \"Role\",\n      \"properties\": {\n        \"dtype\": \"category\",\n        \"num_unique_values\": 4,\n        \"samples\": [\n          \"Wicket-keeper\",\n          \"All-rounder\",\n          \"Batsman\"\n        ],\n        \"semantic_type\": \"\",\n        \"description\": \"\"\n      }\n    },\n    {\n      \"column\": \"Matches_Played\",\n      \"properties\": {\n        \"dtype\": \"number\",\n        \"std\": 59.442635126214746,\n        \"min\": 23.0,\n        \"max\": 250.0,\n        \"num_unique_values\": 46,\n        \"samples\": [\n          33.0,\n          112.0,\n          93.0\n        ],\n        \"semantic_type\": \"\",\n        \"description\": \"\"\n      }\n    },\n    {\n      \"column\": \"Runs_Scored\",\n      \"properties\": {\n        \"dtype\": \"number\",\n        \"std\": 1970.1320771360847,\n        \"min\": 3.0,\n        \"max\": 7263.0,\n        \"num_unique_values\": 49,\n        \"samples\": [\n          3137.0,\n          2594.0,\n          638.0\n        ],\n        \"semantic_type\": \"\",\n        \"description\": \"\"\n      }\n    },\n    {\n      \"column\": \"Batting_Average\",\n      \"properties\": {\n        \"dtype\": \"number\",\n        \"std\": 13.472332760142175,\n        \"min\": 1.5,\n        \"max\": 47.9,\n        \"num_unique_values\": 46,\n        \"samples\": [\n          36.1,\n          8.8,\n          29.0\n        ],\n        \"semantic_type\": \"\",\n        \"description\": \"\"\n      }\n    },\n    {\n      \"column\": \"Wickets_Taken\",\n      \"properties\": {\n        \"dtype\": \"number\",\n        \"std\": 58.138301272310436,\n        \"min\": 0.0,\n        \"max\": 187.0,\n        \"num_unique_values\": 28,\n        \"samples\": [\n          57.0,\n          36.0,\n          170.0\n        ],\n        \"semantic_type\": \"\",\n        \"description\": \"\"\n      }\n    },\n    {\n      \"column\": \"Economy_Rate\",\n      \"properties\": {\n        \"dtype\": \"number\",\n        \"std\": 4.043687866864337,\n        \"min\": 0.0,\n        \"max\": 9.7,\n        \"num_unique_values\": 20,\n        \"samples\": [\n          8.8,\n          8.1,\n          8.6\n        ],\n        \"semantic_type\": \"\",\n        \"description\": \"\"\n      }\n    },\n    {\n      \"column\": \"Price_Crores\",\n      \"properties\": {\n        \"dtype\": \"number\",\n        \"std\": 3.079941027794831,\n        \"min\": 3.5,\n        \"max\": 17.5,\n        \"num_unique_values\": 32,\n        \"samples\": [\n          3.5,\n          8.25,\n          11.25\n        ],\n        \"semantic_type\": \"\",\n        \"description\": \"\"\n      }\n    }\n  ]\n}"
            }
          },
          "metadata": {},
          "execution_count": 3
        }
      ]
    },
    {
      "cell_type": "code",
      "source": [
        "print(df.info())\n",
        "print(df.describe())"
      ],
      "metadata": {
        "colab": {
          "base_uri": "https://localhost:8080/"
        },
        "id": "3TQBxkS9vRbA",
        "outputId": "ce7f017a-3777-4a1c-829b-e0fd75d947e9"
      },
      "execution_count": null,
      "outputs": [
        {
          "output_type": "stream",
          "name": "stdout",
          "text": [
            "<class 'pandas.core.frame.DataFrame'>\n",
            "RangeIndex: 50 entries, 0 to 49\n",
            "Data columns (total 11 columns):\n",
            " #   Column           Non-Null Count  Dtype  \n",
            "---  ------           --------------  -----  \n",
            " 0   Player_Name      49 non-null     object \n",
            " 1   Team             49 non-null     object \n",
            " 2   Country          49 non-null     object \n",
            " 3   Age              49 non-null     float64\n",
            " 4   Role             49 non-null     object \n",
            " 5   Matches_Played   49 non-null     float64\n",
            " 6   Runs_Scored      49 non-null     float64\n",
            " 7   Batting_Average  49 non-null     float64\n",
            " 8   Wickets_Taken    49 non-null     float64\n",
            " 9   Economy_Rate     49 non-null     float64\n",
            " 10  Price_Crores     50 non-null     float64\n",
            "dtypes: float64(7), object(4)\n",
            "memory usage: 4.4+ KB\n",
            "None\n",
            "             Age  Matches_Played  Runs_Scored  Batting_Average  Wickets_Taken  \\\n",
            "count  49.000000       49.000000    49.000000        49.000000      49.000000   \n",
            "mean   30.612245      106.897959  1933.877551        23.871429      49.020408   \n",
            "std     4.452604       59.442635  1970.132077        13.472333      58.138301   \n",
            "min    23.000000       23.000000     3.000000         1.500000       0.000000   \n",
            "25%    28.000000       58.000000    79.000000         9.000000       0.000000   \n",
            "50%    31.000000       98.000000  1419.000000        27.300000      33.000000   \n",
            "75%    33.000000      131.000000  2813.000000        34.900000      73.000000   \n",
            "max    42.000000      250.000000  7263.000000        47.900000     187.000000   \n",
            "\n",
            "       Economy_Rate  Price_Crores  \n",
            "count     49.000000     50.000000  \n",
            "mean       4.967347      9.578000  \n",
            "std        4.043688      3.079941  \n",
            "min        0.000000      3.500000  \n",
            "25%        0.000000      7.500000  \n",
            "50%        7.400000      9.000000  \n",
            "75%        8.400000     11.187500  \n",
            "max        9.700000     17.500000  \n"
          ]
        }
      ]
    },
    {
      "cell_type": "code",
      "source": [
        "features = df[['Runs_Scored','Wickets_Taken','Price_Crores']]"
      ],
      "metadata": {
        "id": "-8nh25NB2FBu"
      },
      "execution_count": null,
      "outputs": []
    },
    {
      "cell_type": "code",
      "source": [
        "scaler = StandardScaler()\n",
        "features_scaled = scaler.fit_transform(features)"
      ],
      "metadata": {
        "id": "zHqGrrnp2LrG"
      },
      "execution_count": null,
      "outputs": []
    },
    {
      "cell_type": "code",
      "source": [
        "features = features.dropna()\n",
        "scaler = StandardScaler()\n",
        "features_scaled = scaler.fit_transform(features)"
      ],
      "metadata": {
        "id": "xzRn8zJh8aMy"
      },
      "execution_count": null,
      "outputs": []
    },
    {
      "cell_type": "code",
      "source": [
        "print(features.isnull().sum())"
      ],
      "metadata": {
        "colab": {
          "base_uri": "https://localhost:8080/"
        },
        "id": "cWRUa0nJ8e89",
        "outputId": "a13894f0-4511-4368-b649-a1a7788094db"
      },
      "execution_count": null,
      "outputs": [
        {
          "output_type": "stream",
          "name": "stdout",
          "text": [
            "Runs_Scored      0\n",
            "Wickets_Taken    0\n",
            "Price_Crores     0\n",
            "dtype: int64\n"
          ]
        }
      ]
    },
    {
      "cell_type": "code",
      "source": [],
      "metadata": {
        "id": "0jAoApEc9MZV"
      },
      "execution_count": null,
      "outputs": []
    },
    {
      "cell_type": "code",
      "source": [
        "features = features.dropna()"
      ],
      "metadata": {
        "id": "M-oEK4TS9AZI"
      },
      "execution_count": null,
      "outputs": []
    },
    {
      "cell_type": "code",
      "source": [
        "df = df.loc[features.index]"
      ],
      "metadata": {
        "id": "obtoytGP-CMQ"
      },
      "execution_count": null,
      "outputs": []
    },
    {
      "cell_type": "code",
      "source": [
        "scaler = StandardScaler()\n",
        "features_scaled = scaler.fit_transform(features)"
      ],
      "metadata": {
        "id": "vC4eOBKS9PDq"
      },
      "execution_count": null,
      "outputs": []
    },
    {
      "cell_type": "code",
      "source": [
        "inertia = []\n",
        "for k in range(1, 11):\n",
        "    kmeans = KMeans(n_clusters=k, random_state=42)\n",
        "    kmeans.fit(features_scaled)\n",
        "    inertia.append(kmeans.inertia_)\n",
        "\n",
        "plt.figure(figsize=(8,5))\n",
        "plt.plot(range(1, 11), inertia, marker='o')\n",
        "plt.title('Elbow Method for Finding Optimal k')\n",
        "plt.xlabel('Number of clusters')\n",
        "plt.ylabel('Inertia')\n",
        "plt.show()"
      ],
      "metadata": {
        "colab": {
          "base_uri": "https://localhost:8080/",
          "height": 487
        },
        "id": "oJpeOzxU9QE4",
        "outputId": "6ea5ccd3-3e9b-4ef6-e8d5-68322f7348d1"
      },
      "execution_count": null,
      "outputs": [
        {
          "output_type": "display_data",
          "data": {
            "text/plain": [
              "<Figure size 800x500 with 1 Axes>"
            ],
            "image/png": "[encoded data removed]"
          },
          "metadata": {}
        }
      ]
    },
    {
      "cell_type": "code",
      "source": [
        "kmeans = KMeans(n_clusters=2, random_state=42)\n",
        "df['Cluster'] = kmeans.fit_predict(features_scaled)"
      ],
      "metadata": {
        "id": "dwS4-u7B9Y3x"
      },
      "execution_count": null,
      "outputs": []
    },
    {
      "cell_type": "code",
      "source": [
        "sns.scatterplot(data=df, x='Runs_Scored', y='Price_Crores', hue='Cluster', palette='Set2')\n",
        "plt.title('Player Clustering based on Runs and Price')\n",
        "plt.show()"
      ],
      "metadata": {
        "colab": {
          "base_uri": "https://localhost:8080/",
          "height": 472
        },
        "id": "1mOJE5i09g8K",
        "outputId": "5c424812-aa05-4853-918f-82f8186fa304"
      },
      "execution_count": null,
      "outputs": [
        {
          "output_type": "display_data",
          "data": {
            "text/plain": [
              "<Figure size 640x480 with 1 Axes>"
            ],
            "image/png": "[encoded data removed]"
          },
          "metadata": {}
        }
      ]
    },
    {
      "cell_type": "code",
      "source": [
        "valuable_players = df[df['Cluster'] == df['Cluster'].value_counts().idxmin()]\n",
        "undervalued_players = df[df['Cluster'] == df['Cluster'].value_counts().idxmax()]"
      ],
      "metadata": {
        "id": "b0IwiG-W-N2c"
      },
      "execution_count": null,
      "outputs": []
    },
    {
      "cell_type": "code",
      "source": [
        "print(\"\\nValuable Players:\")\n",
        "print(valuable_players[['Player_Name', 'Runs_Scored', 'Wickets_Taken', 'Price_Crores']])\n",
        "\n",
        "print(\"\\nUndervalued Players:\")\n",
        "print(undervalued_players[['Player_Name', 'Runs_Scored', 'Wickets_Taken', 'Price_Crores']])"
      ],
      "metadata": {
        "colab": {
          "base_uri": "https://localhost:8080/"
        },
        "id": "_EJe3SpX-1ZX",
        "outputId": "7a83b8f5-5b4d-4781-dc66-ea1a918d3342"
      },
      "execution_count": null,
      "outputs": [
        {
          "output_type": "stream",
          "name": "stdout",
          "text": [
            "\n",
            "Valuable Players:\n",
            "        Player_Name  Runs_Scored  Wickets_Taken  Price_Crores\n",
            "0       Virat Kohli       7263.0            4.0         17.50\n",
            "1      Rohit Sharma       6211.0           15.0         16.25\n",
            "2          MS Dhoni       5082.0            0.0         15.00\n",
            "5      David Warner       6397.0            0.0         12.75\n",
            "6       Jos Buttler       3223.0            0.0         11.50\n",
            "11         KL Rahul       4164.0            0.0         11.50\n",
            "12   Faf du Plessis       3704.0            0.0         10.00\n",
            "13     Rishabh Pant       3137.0            0.0         11.00\n",
            "15    Hardik Pandya       1963.0           57.0         15.00\n",
            "16    Glenn Maxwell       2679.0           27.0         11.00\n",
            "17   Shikhar Dhawan       6720.0            4.0          8.75\n",
            "19     Shreyas Iyer       2881.0            0.0          9.50\n",
            "21    Ambati Rayudu       4190.0            0.0          7.00\n",
            "24     Sanju Samson       3888.0            0.0         13.00\n",
            "36  Quinton de Kock       2813.0            0.0         11.00\n",
            "38     Shubman Gill       2271.0            0.0         14.50\n",
            "\n",
            "Undervalued Players:\n",
            "            Player_Name  Runs_Scored  Wickets_Taken  Price_Crores\n",
            "3        Jasprit Bumrah         56.0          145.0         14.00\n",
            "4       Ravindra Jadeja       2692.0          152.0         13.50\n",
            "7         Kagiso Rabada         67.0          113.0         10.75\n",
            "8          Sunil Narine       1062.0          163.0          9.80\n",
            "9       Kane Williamson       2101.0            0.0          9.25\n",
            "10          Rashid Khan        352.0          129.0          9.00\n",
            "14    Bhuvneshwar Kumar         65.0          170.0          8.50\n",
            "18        Krunal Pandya       1326.0           61.0          8.25\n",
            "20          Trent Boult         41.0          105.0          8.00\n",
            "22     Yuzvendra Chahal         37.0          187.0          8.50\n",
            "23      Nicholas Pooran       1432.0            0.0         10.25\n",
            "25        Deepak Chahar         79.0           72.0          7.50\n",
            "26        Andre Russell       2262.0           96.0         12.50\n",
            "27       Mohammed Shami         52.0          121.0          7.80\n",
            "28       Jonny Bairstow       1291.0            0.0          9.50\n",
            "29           Axar Patel       1419.0          112.0          7.00\n",
            "30       Mitchell Starc         34.0           73.0         11.25\n",
            "31      Ruturaj Gaikwad       1797.0            0.0          7.50\n",
            "32       Arshdeep Singh         12.0           59.0          8.00\n",
            "33           Sam Curran        515.0           49.0         10.50\n",
            "34    Washington Sundar        318.0           34.0          6.00\n",
            "35           Avesh Khan          6.0           55.0          7.50\n",
            "37          Pat Cummins        185.0           45.0          9.00\n",
            "39         Devon Conway        924.0            0.0          6.50\n",
            "40          Umran Malik          3.0           33.0          8.00\n",
            "41        Aiden Markram        795.0            0.0          3.50\n",
            "42       Rahul Tripathi       2210.0            0.0          5.50\n",
            "43    Wanindu Hasaranga         72.0           36.0          8.00\n",
            "44       Mayank Agarwal       2327.0            0.0          7.00\n",
            "45          Nitish Rana       2594.0            8.0          6.00\n",
            "46         Rahul Chahar         44.0           72.0          7.50\n",
            "47  Ravichandran Ashwin        638.0          171.0          4.50\n",
            "48       Marcus Stoinis       1366.0           34.0          5.50\n"
          ]
        }
      ]
    },
    {
      "cell_type": "code",
      "source": [],
      "metadata": {
        "id": "C1owwzJd-56k"
      },
      "execution_count": null,
      "outputs": []
    }
  ]
}